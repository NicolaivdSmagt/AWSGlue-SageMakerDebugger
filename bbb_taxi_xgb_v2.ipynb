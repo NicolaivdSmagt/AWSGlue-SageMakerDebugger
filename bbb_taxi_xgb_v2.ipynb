{
 "cells": [
  {
   "cell_type": "code",
   "execution_count": 1,
   "metadata": {},
   "outputs": [],
   "source": [
    "class color:\n",
    "    BOLD = '\\033[1m'\n",
    "    END = '\\033[0m'"
   ]
  },
  {
   "cell_type": "code",
   "execution_count": 2,
   "metadata": {},
   "outputs": [],
   "source": [
    "import pandas as pd\n",
    "import numpy as np\n",
    "import matplotlib.pyplot as plt\n",
    "import io\n",
    "import os\n",
    "import datetime as dt\n",
    "import pickle as pkl\n",
    "import seaborn as sns\n",
    "import re\n",
    "\n",
    "from sklearn import metrics\n",
    "from sklearn.metrics import confusion_matrix\n",
    "from sklearn.metrics import accuracy_score\n",
    "from sklearn.metrics import roc_auc_score\n",
    "from sklearn.metrics import mean_squared_error\n",
    "\n",
    "import sagemaker\n",
    "import boto3\n",
    "from sagemaker.predictor import csv_serializer\n",
    "from sagemaker import get_execution_role\n",
    "from sagemaker.amazon.amazon_estimator import get_image_uri\n",
    "\n",
    "from sagemaker.debugger import rule_configs, Rule, DebuggerHookConfig, CollectionConfig\n",
    "from sagemaker.estimator import Estimator\n",
    "import smdebug"
   ]
  },
  {
   "cell_type": "code",
   "execution_count": 3,
   "metadata": {},
   "outputs": [],
   "source": [
    "role = get_execution_role()\n",
    "region = boto3.Session().region_name"
   ]
  },
  {
   "cell_type": "code",
   "execution_count": 4,
   "metadata": {},
   "outputs": [
    {
     "name": "stdout",
     "output_type": "stream",
     "text": [
      "smdebug==0.7.2\n",
      "smdebug-rulesconfig==0.1.2\n"
     ]
    }
   ],
   "source": [
    "!pip freeze | grep smdebug"
   ]
  },
  {
   "cell_type": "code",
   "execution_count": 5,
   "metadata": {},
   "outputs": [],
   "source": [
    "#!python -m pip install smdebug"
   ]
  },
  {
   "cell_type": "markdown",
   "metadata": {},
   "source": [
    "# 0. Get data location from DynamoDB and prep data channels"
   ]
  },
  {
   "cell_type": "code",
   "execution_count": 6,
   "metadata": {},
   "outputs": [],
   "source": [
    "dynamo_bucket_table = boto3.resource('dynamodb', region_name=region).Table('taxi_training_data_location')\n",
    "dynamodb_response = dynamo_bucket_table.get_item(Key={'bucketid': 'validation'})"
   ]
  },
  {
   "cell_type": "code",
   "execution_count": 7,
   "metadata": {},
   "outputs": [],
   "source": [
    "bucket = 'aws-emr-resources-507786327009-us-east-1'\n",
    "prefix = str(dynamodb_response['Item']['prefix'])"
   ]
  },
  {
   "cell_type": "code",
   "execution_count": 8,
   "metadata": {},
   "outputs": [
    {
     "name": "stdout",
     "output_type": "stream",
     "text": [
      "Data is in \u001b[1ms3://aws-emr-resources-507786327009-us-east-1/taxidata_v20200426171716\u001b[0m S3 bucket.\n"
     ]
    }
   ],
   "source": [
    "print(f'Data is in {color.BOLD}s3://{bucket}/{prefix}{color.END} S3 bucket.')"
   ]
  },
  {
   "cell_type": "code",
   "execution_count": 9,
   "metadata": {},
   "outputs": [],
   "source": [
    "s3_input_train = sagemaker.s3_input(s3_data='s3://{}/{}/train'.format(bucket, prefix), content_type='csv')\n",
    "s3_input_validation = sagemaker.s3_input(s3_data='s3://{}/{}/validation/'.format(bucket, prefix), content_type='csv')"
   ]
  },
  {
   "cell_type": "markdown",
   "metadata": {},
   "source": [
    "# 1. Make the model"
   ]
  },
  {
   "cell_type": "markdown",
   "metadata": {},
   "source": [
    "## 1.1. Adding Hooks"
   ]
  },
  {
   "cell_type": "code",
   "execution_count": 10,
   "metadata": {},
   "outputs": [],
   "source": [
    "debugger_bucket_path = f's3://{bucket}/debugger_bucket_path'\n",
    "save_interval = 3"
   ]
  },
  {
   "cell_type": "code",
   "execution_count": 11,
   "metadata": {},
   "outputs": [],
   "source": [
    "bbb_debugger_hook_config=DebuggerHookConfig(\n",
    "        s3_output_path=debugger_bucket_path,\n",
    "        collection_configs=[\n",
    "            CollectionConfig(\n",
    "                name=\"metrics\",\n",
    "                parameters={\n",
    "                    \"save_interval\": str(save_interval)\n",
    "                }\n",
    "            ),\n",
    "            CollectionConfig(\n",
    "                name=\"feature_importance\",\n",
    "                parameters={\n",
    "                    \"save_interval\": str(save_interval)\n",
    "                }\n",
    "            ),\n",
    "            CollectionConfig(\n",
    "                name=\"full_shap\",\n",
    "                parameters={\n",
    "                    \"save_interval\": str(save_interval)\n",
    "                }\n",
    "            ),\n",
    "            CollectionConfig(\n",
    "                name=\"average_shap\",\n",
    "                parameters={\n",
    "                    \"save_interval\": str(save_interval)\n",
    "                }\n",
    "            ),\n",
    "        ],\n",
    "    )"
   ]
  },
  {
   "cell_type": "markdown",
   "metadata": {},
   "source": [
    "## 1.2. Adding Rules"
   ]
  },
  {
   "cell_type": "code",
   "execution_count": 12,
   "metadata": {},
   "outputs": [
    {
     "data": {
      "text/plain": [
       "'bbb_custom_rule = Rule.custom(\\n    name=\\'CustomNonTrainingRule\\',\\n    image_uri=\\'759209512951.dkr.ecr.us-west-2.amazonaws.com/sagemaker-debugger-rule-evaluator:latest\\', \\n    instance_type=\\'ml.t3.medium\\',\\n    source=\\'rules/my_custom_rule.py\\',\\n    rule_to_invoke=\\'CustomNonTrainingRule\\',\\n    volume_size_in_gb=30,\\n    collections_to_save=[CollectionConfig(\"metrics\")], \\n    # collections to be analyzed by the rule. since this is a first party collection we fetch it as above\\n    rule_parameters={\\n      \"threshold\": \"5\", \"step_pace\": \"3\"\\n    }\\n)'"
      ]
     },
     "execution_count": 12,
     "metadata": {},
     "output_type": "execute_result"
    }
   ],
   "source": [
    "\"\"\"bbb_custom_rule = Rule.custom(\n",
    "    name='CustomNonTrainingRule',\n",
    "    image_uri='759209512951.dkr.ecr.us-west-2.amazonaws.com/sagemaker-debugger-rule-evaluator:latest', \n",
    "    instance_type='ml.t3.medium',\n",
    "    source='rules/my_custom_rule.py',\n",
    "    rule_to_invoke='CustomNonTrainingRule',\n",
    "    volume_size_in_gb=30,\n",
    "    collections_to_save=[CollectionConfig(\"metrics\")], \n",
    "    # collections to be analyzed by the rule. since this is a first party collection we fetch it as above\n",
    "    rule_parameters={\n",
    "      \"threshold\": \"5\", \"step_pace\": \"3\"\n",
    "    }\n",
    ")\"\"\""
   ]
  },
  {
   "cell_type": "code",
   "execution_count": 13,
   "metadata": {},
   "outputs": [],
   "source": [
    "bbb_rules = [\n",
    "    Rule.sagemaker(\n",
    "            rule_configs.loss_not_decreasing(),\n",
    "            rule_parameters={\n",
    "                \"collection_names\": \"metrics\",\n",
    "                \"num_steps\": str(save_interval * 2),\n",
    "            },\n",
    "        ),\n",
    "]"
   ]
  },
  {
   "cell_type": "markdown",
   "metadata": {},
   "source": [
    "## 1.3. Setting Hyperparameters"
   ]
  },
  {
   "cell_type": "code",
   "execution_count": 14,
   "metadata": {},
   "outputs": [],
   "source": [
    "hyperparameters = {\n",
    "    \"max_depth\": \"5\",\n",
    "    \"eta\": \"0.2\",\n",
    "    \"gamma\": \"4\",\n",
    "    \"min_child_weight\": \"6\",\n",
    "    \"subsample\": \"0.8\",\n",
    "    \"silent\": \"0\",\n",
    "    \"objective\": \"reg:squarederror\",\n",
    "    \"num_round\": \"30\",\n",
    "    \"eval_metric\":\"rmse\"\n",
    "}"
   ]
  },
  {
   "cell_type": "markdown",
   "metadata": {},
   "source": [
    "## 1.4. Building the image"
   ]
  },
  {
   "cell_type": "code",
   "execution_count": 15,
   "metadata": {},
   "outputs": [],
   "source": [
    "sess = sagemaker.Session()\n",
    "\n",
    "container = get_image_uri(region, 'xgboost', '0.90-2')\n",
    "\n",
    "xgb = sagemaker.estimator.Estimator(container,\n",
    "                                    role, \n",
    "                                    train_instance_count=1, \n",
    "                                    train_instance_type='ml.m4.xlarge',\n",
    "                                    output_path='s3://{}/{}/output'.format(bucket, prefix),\n",
    "                                    sagemaker_session=sess,\n",
    "                                    debugger_hook_config = bbb_debugger_hook_config,\n",
    "                                    rules=bbb_rules,\n",
    "                                    hyperparameters=hyperparameters)"
   ]
  },
  {
   "cell_type": "code",
   "execution_count": 16,
   "metadata": {},
   "outputs": [],
   "source": [
    "xgb.fit({'train': s3_input_train, 'validation': s3_input_validation}, \\\n",
    "       wait=False)"
   ]
  },
  {
   "cell_type": "markdown",
   "metadata": {},
   "source": [
    "# 2. Model training monitoring"
   ]
  },
  {
   "cell_type": "code",
   "execution_count": 17,
   "metadata": {},
   "outputs": [
    {
     "name": "stdout",
     "output_type": "stream",
     "text": [
      "Training job name: sagemaker-xgboost-2020-04-30-12-18-16-286\n",
      "12:18:19: InProgress, Starting\n",
      "12:18:29: InProgress, Starting\n",
      "12:18:39: InProgress, Starting\n",
      "12:18:49: InProgress, Starting\n",
      "12:19:00: InProgress, Starting\n",
      "12:19:10: InProgress, Starting\n",
      "12:19:20: InProgress, Starting\n",
      "12:19:30: InProgress, Starting\n",
      "12:19:40: InProgress, Starting\n",
      "12:19:50: InProgress, Starting\n",
      "12:20:00: InProgress, Starting\n",
      "12:20:10: InProgress, Starting\n",
      "12:20:20: InProgress, Starting\n",
      "12:20:30: InProgress, Starting\n",
      "12:20:40: InProgress, Starting\n",
      "12:20:50: InProgress, Downloading\n",
      "12:21:00: InProgress, Downloading\n",
      "12:21:10: InProgress, Downloading\n",
      "12:21:20: InProgress, Downloading\n",
      "12:21:30: InProgress, Training\n"
     ]
    }
   ],
   "source": [
    "import time\n",
    "from time import gmtime, strftime\n",
    "\n",
    "\n",
    "# Below command will give the status of training job\n",
    "job_name = xgb.latest_training_job.name\n",
    "client = xgb.sagemaker_session.sagemaker_client\n",
    "description = client.describe_training_job(TrainingJobName=job_name)\n",
    "print('Training job name: ' + job_name)\n",
    "\n",
    "if description['TrainingJobStatus'] != 'Completed':\n",
    "    while description['SecondaryStatus'] not in ['Training', 'Completed']:\n",
    "        description = client.describe_training_job(TrainingJobName=job_name)\n",
    "        primary_status = description['TrainingJobStatus']\n",
    "        secondary_status = description['SecondaryStatus']\n",
    "        print(\"{}: {}, {}\".format(strftime('%X', gmtime()), primary_status, secondary_status))\n",
    "        time.sleep(10)\n",
    "else:\n",
    "    print(description['TrainingJobStatus'])"
   ]
  },
  {
   "cell_type": "markdown",
   "metadata": {},
   "source": [
    "## 2.1. Observe rules"
   ]
  },
  {
   "cell_type": "markdown",
   "metadata": {},
   "source": [
    "#### Next few cells will execute after the status of the training job changes to 'InProgress, Training'."
   ]
  },
  {
   "cell_type": "code",
   "execution_count": 22,
   "metadata": {},
   "outputs": [
    {
     "data": {
      "text/plain": [
       "[{'RuleConfigurationName': 'LossNotDecreasing',\n",
       "  'RuleEvaluationJobArn': 'arn:aws:sagemaker:us-east-1:507786327009:processing-job/sagemaker-xgboost-2020-04--lossnotdecreasing-4b6c5c13',\n",
       "  'RuleEvaluationStatus': 'NoIssuesFound',\n",
       "  'LastModifiedTime': datetime.datetime(2020, 4, 30, 12, 28, 50, 88000, tzinfo=tzlocal())}]"
      ]
     },
     "execution_count": 22,
     "metadata": {},
     "output_type": "execute_result"
    }
   ],
   "source": [
    "xgb.latest_training_job.rule_job_summary()"
   ]
  },
  {
   "cell_type": "code",
   "execution_count": 23,
   "metadata": {},
   "outputs": [
    {
     "name": "stdout",
     "output_type": "stream",
     "text": [
      "Status of 'LossNotDecreasing' rule: 'NoIssuesFound'.\n"
     ]
    }
   ],
   "source": [
    "latest_job_summ_ = xgb.latest_training_job.rule_job_summary()\n",
    "\n",
    "for x, y in zip([latest_job_summ_[i]['RuleConfigurationName'] for i in range(len(latest_job_summ_))], \\\n",
    "                [latest_job_summ_[i]['RuleEvaluationStatus'] for i in range(len(latest_job_summ_))]):\n",
    "    print(f'Status of \\'{x}\\' rule: \\'{y}\\'.')"
   ]
  },
  {
   "cell_type": "markdown",
   "metadata": {},
   "source": [
    "## 2.2. Create Trials"
   ]
  },
  {
   "cell_type": "code",
   "execution_count": 24,
   "metadata": {},
   "outputs": [
    {
     "name": "stdout",
     "output_type": "stream",
     "text": [
      "[2020-04-30 12:29:17.331 ip-172-16-61-92:23480 INFO s3_trial.py:42] Loading trial debug-output at path s3://aws-emr-resources-507786327009-us-east-1/debugger_bucket_path/sagemaker-xgboost-2020-04-30-12-18-16-286/debug-output\n"
     ]
    }
   ],
   "source": [
    "from smdebug.trials import create_trial\n",
    "\n",
    "description = client.describe_training_job(TrainingJobName=job_name)\n",
    "s3_output_path = xgb.latest_job_debugger_artifacts_path()\n",
    "\n",
    "# This is where we create a Trial object that allows access to saved tensors.\n",
    "trial = create_trial(s3_output_path)"
   ]
  },
  {
   "cell_type": "markdown",
   "metadata": {},
   "source": [
    "### The cell below shows everything that the Debugger saves (in the 'tensor_names' list)"
   ]
  },
  {
   "cell_type": "code",
   "execution_count": 25,
   "metadata": {},
   "outputs": [
    {
     "name": "stdout",
     "output_type": "stream",
     "text": [
      "[2020-04-30 12:29:18.988 ip-172-16-61-92:23480 INFO trial.py:198] Training has ended, will refresh one final time in 1 sec.\n",
      "[2020-04-30 12:29:20.008 ip-172-16-61-92:23480 INFO trial.py:210] Loaded all steps\n"
     ]
    },
    {
     "data": {
      "text/plain": [
       "<smdebug.trials.s3_trial.S3Trial object at 0x7ff38118bf60>:(\n",
       "    name=debug-output,\n",
       "    path=s3://aws-emr-resources-507786327009-us-east-1/debugger_bucket_path/sagemaker-xgboost-2020-04-30-12-18-16-286/debug-output/,\n",
       "    steps=[0, 3, 6, 9, 12, 15, 18, 21, 24, 27],\n",
       "    collections=['hyperparameters', 'metrics', 'predictions', 'labels', 'feature_importance', 'average_shap', 'full_shap', 'trees', 'default', 'losses'],\n",
       "    tensor_names=['average_shap/f0', 'average_shap/f1', 'average_shap/f10', 'average_shap/f11', 'average_shap/f12', 'average_shap/f13', 'average_shap/f14', 'average_shap/f15', 'average_shap/f16', 'average_shap/f17', 'average_shap/f18', 'average_shap/f2', 'average_shap/f3', 'average_shap/f4', 'average_shap/f5', 'average_shap/f6', 'average_shap/f7', 'average_shap/f8', 'average_shap/f9', 'feature_importance/cover/f1', 'feature_importance/cover/f10', 'feature_importance/cover/f12', 'feature_importance/cover/f14', 'feature_importance/cover/f2', 'feature_importance/cover/f3', 'feature_importance/cover/f5', 'feature_importance/cover/f6', 'feature_importance/cover/f7', 'feature_importance/cover/f8', 'feature_importance/cover/f9', 'feature_importance/gain/f1', 'feature_importance/gain/f10', 'feature_importance/gain/f12', 'feature_importance/gain/f14', 'feature_importance/gain/f2', 'feature_importance/gain/f3', 'feature_importance/gain/f5', 'feature_importance/gain/f6', 'feature_importance/gain/f7', 'feature_importance/gain/f8', 'feature_importance/gain/f9', 'feature_importance/total_cover/f1', 'feature_importance/total_cover/f10', 'feature_importance/total_cover/f12', 'feature_importance/total_cover/f14', 'feature_importance/total_cover/f2', 'feature_importance/total_cover/f3', 'feature_importance/total_cover/f5', 'feature_importance/total_cover/f6', 'feature_importance/total_cover/f7', 'feature_importance/total_cover/f8', 'feature_importance/total_cover/f9', 'feature_importance/total_gain/f1', 'feature_importance/total_gain/f10', 'feature_importance/total_gain/f12', 'feature_importance/total_gain/f14', 'feature_importance/total_gain/f2', 'feature_importance/total_gain/f3', 'feature_importance/total_gain/f5', 'feature_importance/total_gain/f6', 'feature_importance/total_gain/f7', 'feature_importance/total_gain/f8', 'feature_importance/total_gain/f9', 'feature_importance/weight/f1', 'feature_importance/weight/f10', 'feature_importance/weight/f12', 'feature_importance/weight/f14', 'feature_importance/weight/f2', 'feature_importance/weight/f3', 'feature_importance/weight/f5', 'feature_importance/weight/f6', 'feature_importance/weight/f7', 'feature_importance/weight/f8', 'feature_importance/weight/f9', 'full_shap/f0', 'full_shap/f1', 'full_shap/f10', 'full_shap/f11', 'full_shap/f12', 'full_shap/f13', 'full_shap/f14', 'full_shap/f15', 'full_shap/f16', 'full_shap/f17', 'full_shap/f18', 'full_shap/f2', 'full_shap/f3', 'full_shap/f4', 'full_shap/f5', 'full_shap/f6', 'full_shap/f7', 'full_shap/f8', 'full_shap/f9', 'train-rmse', 'validation-rmse'],\n",
       ")"
      ]
     },
     "execution_count": 25,
     "metadata": {},
     "output_type": "execute_result"
    }
   ],
   "source": [
    "trial"
   ]
  },
  {
   "cell_type": "markdown",
   "metadata": {},
   "source": [
    "### 2.2.1. Make sure you save the path for later access - e.g. in DynamoDB"
   ]
  },
  {
   "cell_type": "code",
   "execution_count": 26,
   "metadata": {},
   "outputs": [
    {
     "name": "stdout",
     "output_type": "stream",
     "text": [
      "Trial S3 path: \u001b[1ms3://aws-emr-resources-507786327009-us-east-1/debugger_bucket_path/sagemaker-xgboost-2020-04-30-12-18-16-286/debug-output/\u001b[0m\n"
     ]
    }
   ],
   "source": [
    "print(f'Trial S3 path: {color.BOLD}{trial.path}{color.END}')"
   ]
  },
  {
   "cell_type": "markdown",
   "metadata": {},
   "source": [
    "### 2.2.2. Example of getting information for a specific tensor at a specific step"
   ]
  },
  {
   "cell_type": "code",
   "execution_count": 27,
   "metadata": {},
   "outputs": [
    {
     "name": "stdout",
     "output_type": "stream",
     "text": [
      "Tensor 'train-rmse' at step 15: 0.131604\n"
     ]
    }
   ],
   "source": [
    "example_tensor_name_ = 'train-rmse'\n",
    "example_tensor_step_ = 15\n",
    "print(f'Tensor \\'{example_tensor_name_}\\' at step {example_tensor_step_}: {trial.tensor(example_tensor_name_).values()[example_tensor_step_][0]}')"
   ]
  },
  {
   "cell_type": "markdown",
   "metadata": {},
   "source": [
    "## 2.3. Monitoring"
   ]
  },
  {
   "cell_type": "code",
   "execution_count": 39,
   "metadata": {},
   "outputs": [],
   "source": [
    "def get_data(trial, tname):\n",
    "    tensor = trial.tensor(tname)\n",
    "    steps = tensor.steps()\n",
    "    vals = [tensor.value(s) for s in steps]\n",
    "    return steps, vals\n",
    "\n",
    "\n",
    "def plot_collection(trial, collection_name, regex='.*', figsize=(8, 6)):\n",
    "    fig, ax = plt.subplots(figsize=figsize)\n",
    "    sns.despine()\n",
    "\n",
    "    tensors = trial.collection(collection_name).tensor_names\n",
    "\n",
    "    for tensor_name in sorted(tensors):\n",
    "        if re.match(regex, tensor_name):\n",
    "            steps, data = get_data(trial, tensor_name)\n",
    "            ax.plot(steps, data, label=tensor_name)\n",
    "\n",
    "    ax.legend(loc='center left', bbox_to_anchor=(1, 0.5))\n",
    "    ax.set_xlabel('Iteration')"
   ]
  },
  {
   "cell_type": "code",
   "execution_count": 40,
   "metadata": {},
   "outputs": [],
   "source": [
    "def plot_feature_importance(trial, importance_type=\"weight\"):\n",
    "    SUPPORTED_IMPORTANCE_TYPES = [\"weight\", \"gain\", \"cover\", \"total_gain\", \"total_cover\"]\n",
    "    if importance_type not in SUPPORTED_IMPORTANCE_TYPES:\n",
    "        raise ValueError(f\"{importance_type} is not one of the supported importance types.\")\n",
    "    plot_collection(\n",
    "        trial,\n",
    "        \"feature_importance\",\n",
    "        regex=f\"feature_importance/{importance_type}/.*\")"
   ]
  },
  {
   "cell_type": "code",
   "execution_count": 41,
   "metadata": {},
   "outputs": [
    {
     "data": {
      "image/png": "[encoded data removed]",
      "text/plain": [
       "<Figure size 576x432 with 1 Axes>"
      ]
     },
     "metadata": {},
     "output_type": "display_data"
    }
   ],
   "source": [
    "plot_collection(trial, \"metrics\")"
   ]
  },
  {
   "cell_type": "code",
   "execution_count": 42,
   "metadata": {},
   "outputs": [
    {
     "data": {
      "image/png": "[encoded data removed]",
      "text/plain": [
       "<Figure size 576x432 with 1 Axes>"
      ]
     },
     "metadata": {},
     "output_type": "display_data"
    }
   ],
   "source": [
    "plot_feature_importance(trial, importance_type='weight')"
   ]
  },
  {
   "cell_type": "code",
   "execution_count": 43,
   "metadata": {},
   "outputs": [
    {
     "data": {
      "image/png": "[encoded data removed]",
      "text/plain": [
       "<Figure size 576x432 with 1 Axes>"
      ]
     },
     "metadata": {},
     "output_type": "display_data"
    }
   ],
   "source": [
    "plot_collection(trial, \"average_shap\")"
   ]
  },
  {
   "cell_type": "markdown",
   "metadata": {},
   "source": [
    "# 3. Test"
   ]
  },
  {
   "cell_type": "markdown",
   "metadata": {},
   "source": [
    "## 3.1. Deploy the model to SageMaker endpoint"
   ]
  },
  {
   "cell_type": "code",
   "execution_count": 44,
   "metadata": {},
   "outputs": [
    {
     "name": "stdout",
     "output_type": "stream",
     "text": [
      "---------------!"
     ]
    }
   ],
   "source": [
    "xgb_predictor = xgb.deploy(initial_instance_count=1, instance_type='ml.m4.xlarge')\n",
    "xgb_predictor.content_type = 'text/csv'\n",
    "xgb_predictor.serializer = csv_serializer\n",
    "xgb_predictor.deserializer = None"
   ]
  },
  {
   "cell_type": "code",
   "execution_count": 45,
   "metadata": {},
   "outputs": [],
   "source": [
    "test_file_ = 'part-00000-30faa406-54e6-43a3-895e-07b4caa237d9-c000.csv'"
   ]
  },
  {
   "cell_type": "code",
   "execution_count": 46,
   "metadata": {},
   "outputs": [],
   "source": [
    "test_bucket_ = 's3://{}/{}/test/test.csv/{}'.format(bucket, prefix, test_file_)"
   ]
  },
  {
   "cell_type": "code",
   "execution_count": null,
   "metadata": {},
   "outputs": [],
   "source": [
    "!aws s3 cp $test_bucket_ ."
   ]
  },
  {
   "cell_type": "code",
   "execution_count": 47,
   "metadata": {},
   "outputs": [],
   "source": [
    "test_data_df = pd.read_csv(test_file_, header=None).head(500)"
   ]
  },
  {
   "cell_type": "code",
   "execution_count": 48,
   "metadata": {},
   "outputs": [
    {
     "data": {
      "text/html": [
       "<div>\n",
       "<style scoped>\n",
       "    .dataframe tbody tr th:only-of-type {\n",
       "        vertical-align: middle;\n",
       "    }\n",
       "\n",
       "    .dataframe tbody tr th {\n",
       "        vertical-align: top;\n",
       "    }\n",
       "\n",
       "    .dataframe thead th {\n",
       "        text-align: right;\n",
       "    }\n",
       "</style>\n",
       "<table border=\"1\" class=\"dataframe\">\n",
       "  <thead>\n",
       "    <tr style=\"text-align: right;\">\n",
       "      <th></th>\n",
       "      <th>0</th>\n",
       "      <th>1</th>\n",
       "      <th>2</th>\n",
       "      <th>3</th>\n",
       "      <th>4</th>\n",
       "      <th>5</th>\n",
       "      <th>6</th>\n",
       "      <th>7</th>\n",
       "      <th>8</th>\n",
       "      <th>9</th>\n",
       "      <th>10</th>\n",
       "      <th>11</th>\n",
       "      <th>12</th>\n",
       "      <th>13</th>\n",
       "      <th>14</th>\n",
       "      <th>15</th>\n",
       "      <th>16</th>\n",
       "      <th>17</th>\n",
       "      <th>18</th>\n",
       "      <th>19</th>\n",
       "    </tr>\n",
       "  </thead>\n",
       "  <tbody>\n",
       "    <tr>\n",
       "      <th>0</th>\n",
       "      <td>4.36</td>\n",
       "      <td>5</td>\n",
       "      <td>4.60</td>\n",
       "      <td>1</td>\n",
       "      <td>26.16</td>\n",
       "      <td>1</td>\n",
       "      <td>1.0</td>\n",
       "      <td>21.0</td>\n",
       "      <td>0.2076</td>\n",
       "      <td>2</td>\n",
       "      <td>7</td>\n",
       "      <td>21</td>\n",
       "      <td>2</td>\n",
       "      <td>7</td>\n",
       "      <td>49</td>\n",
       "      <td>4.6750</td>\n",
       "      <td>0.9840</td>\n",
       "      <td>1</td>\n",
       "      <td>0</td>\n",
       "      <td>1</td>\n",
       "    </tr>\n",
       "    <tr>\n",
       "      <th>1</th>\n",
       "      <td>0.00</td>\n",
       "      <td>1</td>\n",
       "      <td>0.55</td>\n",
       "      <td>1</td>\n",
       "      <td>5.80</td>\n",
       "      <td>1</td>\n",
       "      <td>1.0</td>\n",
       "      <td>5.0</td>\n",
       "      <td>0.0000</td>\n",
       "      <td>2</td>\n",
       "      <td>7</td>\n",
       "      <td>39</td>\n",
       "      <td>2</td>\n",
       "      <td>7</td>\n",
       "      <td>44</td>\n",
       "      <td>0.8528</td>\n",
       "      <td>0.6449</td>\n",
       "      <td>1</td>\n",
       "      <td>0</td>\n",
       "      <td>1</td>\n",
       "    </tr>\n",
       "    <tr>\n",
       "      <th>2</th>\n",
       "      <td>5.20</td>\n",
       "      <td>1</td>\n",
       "      <td>2.78</td>\n",
       "      <td>1</td>\n",
       "      <td>22.54</td>\n",
       "      <td>1</td>\n",
       "      <td>1.0</td>\n",
       "      <td>11.0</td>\n",
       "      <td>0.4727</td>\n",
       "      <td>2</td>\n",
       "      <td>7</td>\n",
       "      <td>46</td>\n",
       "      <td>2</td>\n",
       "      <td>7</td>\n",
       "      <td>59</td>\n",
       "      <td>2.2583</td>\n",
       "      <td>1.2310</td>\n",
       "      <td>1</td>\n",
       "      <td>0</td>\n",
       "      <td>1</td>\n",
       "    </tr>\n",
       "    <tr>\n",
       "      <th>3</th>\n",
       "      <td>0.00</td>\n",
       "      <td>1</td>\n",
       "      <td>0.59</td>\n",
       "      <td>1</td>\n",
       "      <td>4.80</td>\n",
       "      <td>2</td>\n",
       "      <td>1.0</td>\n",
       "      <td>4.0</td>\n",
       "      <td>0.0000</td>\n",
       "      <td>2</td>\n",
       "      <td>7</td>\n",
       "      <td>54</td>\n",
       "      <td>2</td>\n",
       "      <td>7</td>\n",
       "      <td>56</td>\n",
       "      <td>0.4278</td>\n",
       "      <td>1.3791</td>\n",
       "      <td>1</td>\n",
       "      <td>0</td>\n",
       "      <td>1</td>\n",
       "    </tr>\n",
       "    <tr>\n",
       "      <th>4</th>\n",
       "      <td>0.00</td>\n",
       "      <td>2</td>\n",
       "      <td>5.06</td>\n",
       "      <td>1</td>\n",
       "      <td>22.30</td>\n",
       "      <td>2</td>\n",
       "      <td>1.0</td>\n",
       "      <td>21.5</td>\n",
       "      <td>0.0000</td>\n",
       "      <td>2</td>\n",
       "      <td>7</td>\n",
       "      <td>27</td>\n",
       "      <td>2</td>\n",
       "      <td>7</td>\n",
       "      <td>55</td>\n",
       "      <td>4.5444</td>\n",
       "      <td>1.1135</td>\n",
       "      <td>1</td>\n",
       "      <td>0</td>\n",
       "      <td>1</td>\n",
       "    </tr>\n",
       "  </tbody>\n",
       "</table>\n",
       "</div>"
      ],
      "text/plain": [
       "     0   1     2   3      4   5    6     7       8   9   10  11  12  13  14  \\\n",
       "0  4.36   5  4.60   1  26.16   1  1.0  21.0  0.2076   2   7  21   2   7  49   \n",
       "1  0.00   1  0.55   1   5.80   1  1.0   5.0  0.0000   2   7  39   2   7  44   \n",
       "2  5.20   1  2.78   1  22.54   1  1.0  11.0  0.4727   2   7  46   2   7  59   \n",
       "3  0.00   1  0.59   1   4.80   2  1.0   4.0  0.0000   2   7  54   2   7  56   \n",
       "4  0.00   2  5.06   1  22.30   2  1.0  21.5  0.0000   2   7  27   2   7  55   \n",
       "\n",
       "       15      16  17  18  19  \n",
       "0  4.6750  0.9840   1   0   1  \n",
       "1  0.8528  0.6449   1   0   1  \n",
       "2  2.2583  1.2310   1   0   1  \n",
       "3  0.4278  1.3791   1   0   1  \n",
       "4  4.5444  1.1135   1   0   1  "
      ]
     },
     "execution_count": 48,
     "metadata": {},
     "output_type": "execute_result"
    }
   ],
   "source": [
    "test_data_df.head(5)"
   ]
  },
  {
   "cell_type": "markdown",
   "metadata": {},
   "source": [
    "## 3.2. Predict the test data (500 rows)"
   ]
  },
  {
   "cell_type": "code",
   "execution_count": 49,
   "metadata": {},
   "outputs": [],
   "source": [
    "def predict(data, rows=500):\n",
    "    split_array = np.array_split(data, int(data.shape[0] / float(rows) + 1))\n",
    "    predictions = ''\n",
    "    for array in split_array:\n",
    "        predictions = ','.join([predictions, xgb_predictor.predict(array).decode('utf-8')])\n",
    "\n",
    "    return np.fromstring(predictions[1:], sep=',')"
   ]
  },
  {
   "cell_type": "code",
   "execution_count": 50,
   "metadata": {},
   "outputs": [],
   "source": [
    "predictions = predict(test_data_df.values[:, 1:])"
   ]
  },
  {
   "cell_type": "code",
   "execution_count": 51,
   "metadata": {},
   "outputs": [],
   "source": [
    "results_df = pd.DataFrame({'real': list(test_data_df.iloc[:, 0]), 'predicted':predictions})\n",
    "results_df['predicted'] = results_df['predicted'].apply(lambda x: max(0, round(x, 2)))\n",
    "results_df['diff'] = abs(results_df['predicted'] - results_df['real'])\n",
    "\n",
    "def diff_as_pct_fn(x, y):\n",
    "    return int(round(100*x/y, 0)) if y > 0 else 0\n",
    "results_df['diff_as_pct'] = results_df.apply(lambda row: diff_as_pct_fn(row['diff'], row['real']), axis=1)"
   ]
  },
  {
   "cell_type": "code",
   "execution_count": 52,
   "metadata": {},
   "outputs": [
    {
     "data": {
      "text/html": [
       "<div>\n",
       "<style scoped>\n",
       "    .dataframe tbody tr th:only-of-type {\n",
       "        vertical-align: middle;\n",
       "    }\n",
       "\n",
       "    .dataframe tbody tr th {\n",
       "        vertical-align: top;\n",
       "    }\n",
       "\n",
       "    .dataframe thead th {\n",
       "        text-align: right;\n",
       "    }\n",
       "</style>\n",
       "<table border=\"1\" class=\"dataframe\">\n",
       "  <thead>\n",
       "    <tr style=\"text-align: right;\">\n",
       "      <th></th>\n",
       "      <th>real</th>\n",
       "      <th>predicted</th>\n",
       "      <th>diff</th>\n",
       "      <th>diff_as_pct</th>\n",
       "    </tr>\n",
       "  </thead>\n",
       "  <tbody>\n",
       "    <tr>\n",
       "      <th>0</th>\n",
       "      <td>4.36</td>\n",
       "      <td>4.28</td>\n",
       "      <td>0.08</td>\n",
       "      <td>2</td>\n",
       "    </tr>\n",
       "    <tr>\n",
       "      <th>1</th>\n",
       "      <td>0.00</td>\n",
       "      <td>0.00</td>\n",
       "      <td>0.00</td>\n",
       "      <td>0</td>\n",
       "    </tr>\n",
       "    <tr>\n",
       "      <th>2</th>\n",
       "      <td>5.20</td>\n",
       "      <td>6.05</td>\n",
       "      <td>0.85</td>\n",
       "      <td>16</td>\n",
       "    </tr>\n",
       "    <tr>\n",
       "      <th>3</th>\n",
       "      <td>0.00</td>\n",
       "      <td>0.00</td>\n",
       "      <td>0.00</td>\n",
       "      <td>0</td>\n",
       "    </tr>\n",
       "    <tr>\n",
       "      <th>4</th>\n",
       "      <td>0.00</td>\n",
       "      <td>0.00</td>\n",
       "      <td>0.00</td>\n",
       "      <td>0</td>\n",
       "    </tr>\n",
       "    <tr>\n",
       "      <th>5</th>\n",
       "      <td>16.70</td>\n",
       "      <td>18.43</td>\n",
       "      <td>1.73</td>\n",
       "      <td>10</td>\n",
       "    </tr>\n",
       "    <tr>\n",
       "      <th>6</th>\n",
       "      <td>1.70</td>\n",
       "      <td>1.71</td>\n",
       "      <td>0.01</td>\n",
       "      <td>1</td>\n",
       "    </tr>\n",
       "    <tr>\n",
       "      <th>7</th>\n",
       "      <td>0.00</td>\n",
       "      <td>0.00</td>\n",
       "      <td>0.00</td>\n",
       "      <td>0</td>\n",
       "    </tr>\n",
       "    <tr>\n",
       "      <th>8</th>\n",
       "      <td>0.00</td>\n",
       "      <td>0.00</td>\n",
       "      <td>0.00</td>\n",
       "      <td>0</td>\n",
       "    </tr>\n",
       "    <tr>\n",
       "      <th>9</th>\n",
       "      <td>1.20</td>\n",
       "      <td>1.14</td>\n",
       "      <td>0.06</td>\n",
       "      <td>5</td>\n",
       "    </tr>\n",
       "  </tbody>\n",
       "</table>\n",
       "</div>"
      ],
      "text/plain": [
       "    real  predicted  diff  diff_as_pct\n",
       "0   4.36       4.28  0.08            2\n",
       "1   0.00       0.00  0.00            0\n",
       "2   5.20       6.05  0.85           16\n",
       "3   0.00       0.00  0.00            0\n",
       "4   0.00       0.00  0.00            0\n",
       "5  16.70      18.43  1.73           10\n",
       "6   1.70       1.71  0.01            1\n",
       "7   0.00       0.00  0.00            0\n",
       "8   0.00       0.00  0.00            0\n",
       "9   1.20       1.14  0.06            5"
      ]
     },
     "execution_count": 52,
     "metadata": {},
     "output_type": "execute_result"
    }
   ],
   "source": [
    "results_df.head(10)"
   ]
  },
  {
   "cell_type": "code",
   "execution_count": 53,
   "metadata": {},
   "outputs": [
    {
     "name": "stdout",
     "output_type": "stream",
     "text": [
      "RMSE: 0.1162\n"
     ]
    }
   ],
   "source": [
    "print(f\"RMSE: {mean_squared_error(list(results_df['predicted']), list(results_df['real']))**.5:,.4f}\")"
   ]
  },
  {
   "cell_type": "code",
   "execution_count": 54,
   "metadata": {},
   "outputs": [
    {
     "name": "stdout",
     "output_type": "stream",
     "text": [
      "Percent predictions in which the deviation is less than 5% from the real data: 94.20%.\n"
     ]
    }
   ],
   "source": [
    "dev_threshold = 5\n",
    "\n",
    "print(f'Percent predictions in which the deviation is less than {dev_threshold}% from the real \\\n",
    "data: {100*results_df[results_df.diff_as_pct <= dev_threshold].shape[0] / results_df.shape[0]:,.2f}%.')"
   ]
  }
 ],
 "metadata": {
  "kernelspec": {
   "display_name": "conda_python3",
   "language": "python",
   "name": "conda_python3"
  },
  "language_info": {
   "codemirror_mode": {
    "name": "ipython",
    "version": 3
   },
   "file_extension": ".py",
   "mimetype": "text/x-python",
   "name": "python",
   "nbconvert_exporter": "python",
   "pygments_lexer": "ipython3",
   "version": "3.6.5"
  }
 },
 "nbformat": 4,
 "nbformat_minor": 4
}
